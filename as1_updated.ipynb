{
 "cells": [
  {
   "cell_type": "code",
   "execution_count": 1,
   "id": "94a58a4f",
   "metadata": {},
   "outputs": [],
   "source": [
    "import pandas as panda\n",
    "import numpy as np\n",
    "import matplotlib.pyplot as plt"
   ]
  },
  {
   "cell_type": "code",
   "execution_count": 5,
   "id": "fc68da8f",
   "metadata": {},
   "outputs": [
    {
     "name": "stdout",
     "output_type": "stream",
     "text": [
      "[[ 4.09780e-01 -2.15590e-01]\n",
      " [-5.89340e-01 -4.50590e-01]\n",
      " [ 1.30560e-01 -5.98320e-01]\n",
      " [-2.49840e-01 -4.36950e-01]\n",
      " [-8.96900e-01 -4.24340e-01]\n",
      " [ 9.76060e-01 -3.73770e-01]\n",
      " [-1.00196e+00  2.94630e-01]\n",
      " [-7.95970e-01  2.22990e-01]\n",
      " [-1.00196e+00  9.68140e-01]\n",
      " [ 7.27600e-02  4.67960e-01]\n",
      " [ 9.54900e-01 -7.03910e-01]\n",
      " [-1.00196e+00 -8.98000e-02]\n",
      " [-6.82220e-01  5.61390e-01]\n",
      " [ 2.18398e+00 -9.06440e-01]\n",
      " [-7.40300e-02 -8.53400e-01]\n",
      " [-1.00196e+00 -9.37670e-01]\n",
      " [-1.00196e+00 -8.77680e-01]\n",
      " [-1.00196e+00 -7.73190e-01]\n",
      " [-4.36080e-01 -9.11630e-01]\n",
      " [-3.36790e-01 -7.33030e-01]\n",
      " [-1.00196e+00 -8.67510e-01]\n",
      " [-1.00196e+00 -9.45440e-01]\n",
      " [-1.00196e+00 -7.91800e-01]\n",
      " [-7.93330e-01 -8.36260e-01]\n",
      " [-8.71550e-01 -9.02680e-01]\n",
      " [-1.00196e+00 -9.90840e-01]\n",
      " [-1.00196e+00 -9.81040e-01]\n",
      " [ 1.38484e+00  2.88225e+00]\n",
      " [ 1.57157e+00  2.29887e+00]\n",
      " [ 7.57550e-01  3.21025e+00]\n",
      " [ 5.66870e-01  3.20659e+00]\n",
      " [-1.00196e+00  1.43229e+00]\n",
      " [ 9.94130e-01  1.69424e+00]\n",
      " [ 9.09620e-01 -6.51000e-01]\n",
      " [ 1.01471e+00  4.71700e-01]\n",
      " [ 4.59760e-01 -8.81500e-01]\n",
      " [-1.97500e-02  4.49690e-01]\n",
      " [ 2.18003e+00  1.46438e+00]\n",
      " [-1.69900e-01  1.75170e-01]\n",
      " [ 1.57130e+00 -3.38190e-01]\n",
      " [ 1.26175e+00  3.90770e-01]\n",
      " [ 1.75090e-01  1.79624e+00]\n",
      " [ 1.43425e+00 -5.71850e-01]\n",
      " [ 1.76320e-01  1.65143e+00]\n",
      " [-1.00196e+00  6.30300e-01]\n",
      " [-1.00196e+00 -8.12350e-01]\n",
      " [-1.67290e-01 -3.84920e-01]\n",
      " [-1.00196e+00  7.85620e-01]\n",
      " [ 2.19051e+00  2.07300e-01]\n",
      " [ 8.27970e-01  3.23790e-01]\n",
      " [ 5.50500e-02 -8.64520e-01]\n",
      " [-7.36030e-01 -7.21610e-01]\n",
      " [ 1.46884e+00 -5.48470e-01]\n",
      " [ 1.46137e+00 -6.02550e-01]\n",
      " [-1.00196e+00 -7.26300e-01]\n",
      " [ 1.61816e+00 -8.60420e-01]\n",
      " [ 1.82220e-01 -8.59770e-01]\n",
      " [ 9.06650e-01 -1.05330e+00]\n",
      " [ 3.45560e-01 -3.78920e-01]\n",
      " [-5.78000e-03 -7.86250e-01]\n",
      " [ 1.65230e+00 -5.59460e-01]\n",
      " [-1.00196e+00 -9.42740e-01]\n",
      " [ 7.83800e-01 -1.07669e+00]\n",
      " [-1.00196e+00  2.92640e-01]\n",
      " [ 3.13000e-03  1.81148e+00]\n",
      " [ 7.56290e-01  1.27851e+00]\n",
      " [ 9.98930e-01 -1.31850e-01]\n",
      " [-3.89550e-01 -3.49710e-01]\n",
      " [-1.22430e-01  1.71514e+00]\n",
      " [-7.38890e-01  5.50390e-01]\n",
      " [ 9.87280e-01  3.52780e-01]\n",
      " [-8.59870e-01  9.36980e-01]\n",
      " [-1.00196e+00  7.16000e-02]\n",
      " [ 1.02812e+00  3.23620e-01]\n",
      " [-7.85970e-01  7.95320e-01]\n",
      " [-7.25150e-01 -3.88810e-01]\n",
      " [-7.21230e-01  2.91120e-01]\n",
      " [-1.55590e-01 -1.81350e-01]\n",
      " [-8.19260e-01 -6.65400e-02]\n",
      " [-3.92600e-01  1.42236e+00]\n",
      " [ 4.15570e-01 -1.67640e-01]\n",
      " [ 4.63250e-01  6.69650e-01]\n",
      " [-3.84290e-01  4.79070e-01]\n",
      " [-7.52000e-03 -1.12220e-01]\n",
      " [-4.56800e-02  9.78900e-01]\n",
      " [-1.79100e-01  1.38860e+00]\n",
      " [-1.82160e-01 -4.70560e-01]\n",
      " [-2.10550e-01 -7.84300e-01]\n",
      " [ 2.15770e-01  5.52480e-01]\n",
      " [ 2.57670e-01 -3.57640e-01]\n",
      " [-6.07700e-01 -8.41190e-01]\n",
      " [-3.45200e-01 -6.56770e-01]\n",
      " [-1.00196e+00  5.26340e-01]\n",
      " [ 2.42390e-01 -7.36340e-01]\n",
      " [-5.74710e-01 -3.04580e-01]\n",
      " [ 5.41100e-02 -8.97000e-03]\n",
      " [-1.00196e+00  4.09710e-01]\n",
      " [-1.00196e+00 -6.04850e-01]\n",
      " [-1.00196e+00  2.10350e-01]\n",
      " [-5.29980e-01 -4.60290e-01]\n",
      " [ 1.76431e+00 -5.81750e-01]\n",
      " [-3.75680e-01 -8.80110e-01]\n",
      " [ 1.36399e+00 -9.29930e-01]\n",
      " [ 2.27424e+00 -9.37400e-01]\n",
      " [ 1.56891e+00 -1.05963e+00]\n",
      " [ 1.63481e+00 -9.46090e-01]\n",
      " [-1.00196e+00 -6.18030e-01]\n",
      " [-1.00196e+00 -7.41470e-01]\n",
      " [ 3.31330e-01 -1.02714e+00]\n",
      " [-1.00196e+00 -7.86270e-01]\n",
      " [-7.68790e-01 -7.20130e-01]\n",
      " [-5.83620e-01 -5.91390e-01]\n",
      " [ 1.01797e+00 -7.44080e-01]\n",
      " [ 8.44760e-01 -3.40090e-01]\n",
      " [-1.00196e+00 -2.90400e-01]\n",
      " [-4.76000e-01 -7.20050e-01]\n",
      " [-3.46100e-01 -5.13000e-01]\n",
      " [ 7.80140e-01 -8.24330e-01]\n",
      " [ 3.52990e-01 -6.99280e-01]\n",
      " [-1.90760e-01  2.44790e-01]\n",
      " [-1.00196e+00  5.42120e-01]\n",
      " [-1.00196e+00  5.42120e-01]\n",
      " [ 6.36100e-01  6.09810e-01]\n",
      " [-1.00196e+00 -5.15290e-01]\n",
      " [ 1.91098e+00  1.35350e-01]\n",
      " [ 2.26805e+00  2.49520e-01]\n",
      " [ 2.03935e+00  2.53300e-02]\n",
      " [-1.00196e+00  2.67310e-01]\n",
      " [-3.98210e-01 -2.19120e-01]\n",
      " [-1.28510e-01 -2.12380e-01]\n",
      " [-5.95090e-01 -6.35300e-02]\n",
      " [ 1.61888e+00  1.38300e-01]\n",
      " [ 1.84720e-01  4.68340e-01]\n",
      " [ 1.97600e-02 -8.23080e-01]\n",
      " [ 7.48050e-01  1.37328e+00]\n",
      " [ 2.14894e+00 -4.04020e-01]\n",
      " [ 8.88980e-01  1.08620e-01]\n",
      " [-1.00196e+00 -2.32200e-01]\n",
      " [-9.50000e-04  7.45280e-01]\n",
      " [-1.00196e+00  2.03109e+00]\n",
      " [-5.96110e-01  8.22400e-01]\n",
      " [ 3.41730e-01 -8.53910e-01]\n",
      " [ 9.31980e-01  3.52740e-01]\n",
      " [-6.13490e-01  1.81994e+00]\n",
      " [ 1.23754e+00  1.48487e+00]\n",
      " [-1.00196e+00  6.08370e-01]\n",
      " [-1.00196e+00  4.22250e-01]\n",
      " [-5.29610e-01 -9.63310e-01]\n",
      " [ 6.66880e-01 -5.35160e-01]\n",
      " [ 8.98960e-01 -8.30780e-01]\n",
      " [ 4.42990e-01 -7.90200e-01]\n",
      " [-1.00196e+00  2.39270e-01]\n",
      " [ 3.55610e-01  9.04030e-01]\n",
      " [-5.87820e-01 -1.66440e-01]\n",
      " [ 6.37220e-01 -7.91320e-01]\n",
      " [ 1.70177e+00 -9.13570e-01]\n",
      " [-7.21790e-01 -6.79710e-01]\n",
      " [ 2.17897e+00 -8.05190e-01]\n",
      " [ 2.92200e-02 -8.84570e-01]\n",
      " [ 2.92200e-02 -8.84570e-01]\n",
      " [-1.00196e+00  2.96310e+00]\n",
      " [-1.00196e+00  2.96042e+00]\n",
      " [-1.00196e+00  4.59950e-01]\n",
      " [-1.00196e+00  4.06970e-01]\n",
      " [-1.00196e+00  4.25410e-01]\n",
      " [-1.00196e+00  8.93380e-01]\n",
      " [-1.00196e+00  8.93380e-01]\n",
      " [-1.00196e+00  2.96310e+00]\n",
      " [-1.00196e+00  2.96042e+00]\n",
      " [-1.00196e+00  4.59950e-01]\n",
      " [-1.00196e+00  4.06970e-01]\n",
      " [-1.00196e+00  4.25410e-01]\n",
      " [-1.00196e+00  8.93380e-01]\n",
      " [-1.00196e+00  8.93380e-01]\n",
      " [ 5.04990e-01  3.65430e-01]\n",
      " [-7.84820e-01 -1.70130e-01]\n",
      " [-7.94570e-01 -5.75560e-01]\n",
      " [-7.17440e-01 -3.75340e-01]\n",
      " [ 1.24837e+00 -5.06100e-01]\n",
      " [-5.73280e-01 -8.33980e-01]\n",
      " [-5.73280e-01 -8.33980e-01]\n",
      " [ 2.18694e+00 -1.96980e-01]\n",
      " [-1.00196e+00 -4.35210e-01]\n",
      " [ 1.36578e+00 -3.56160e-01]\n",
      " [-7.13730e-01 -8.55020e-01]\n",
      " [-1.00196e+00 -9.63070e-01]\n",
      " [-7.13730e-01 -8.55020e-01]\n",
      " [-1.00196e+00 -9.63070e-01]\n",
      " [ 9.44970e-01  1.42963e+00]\n",
      " [-8.53840e-01  2.41176e+00]\n",
      " [ 1.20148e+00  1.54286e+00]\n",
      " [-2.65460e-01  6.28880e-01]\n",
      " [ 6.17910e-01  1.22341e+00]\n",
      " [-1.00196e+00 -1.01517e+00]\n",
      " [ 1.70600e-01 -1.06490e+00]\n",
      " [-2.47800e-02 -9.96080e-01]\n",
      " [-1.00196e+00 -9.94140e-01]\n",
      " [-1.00196e+00 -1.02149e+00]\n",
      " [ 2.84312e+00 -7.79520e-01]\n",
      " [ 2.91000e-02 -9.74240e-01]\n",
      " [ 2.51740e+00 -9.34890e-01]\n",
      " [ 1.20461e+00 -9.65690e-01]\n",
      " [-8.97610e-01 -9.57680e-01]\n",
      " [ 1.63594e+00 -1.07636e+00]\n",
      " [ 4.15830e-01 -1.05365e+00]\n",
      " [-1.00196e+00 -1.01919e+00]\n",
      " [ 2.45022e+00  2.52346e+00]\n",
      " [-3.80550e-01  1.49546e+00]\n",
      " [ 4.47320e-01  3.43180e-01]\n",
      " [-1.00196e+00  2.90270e-01]\n",
      " [-2.73700e-01  2.07446e+00]\n",
      " [ 7.39970e-01 -7.86810e-01]\n",
      " [-8.29070e-01 -3.15980e-01]\n",
      " [-1.00196e+00 -8.83680e-01]\n",
      " [ 1.04573e+00  3.40070e-01]\n",
      " [ 5.09700e-01 -1.12005e+00]\n",
      " [-1.00196e+00 -1.10396e+00]\n",
      " [-1.00196e+00 -1.10396e+00]]\n"
     ]
    }
   ],
   "source": [
    "file =  panda.read_csv(\"SleepQuality.csv\" , usecols = ['swsLengthM' ,  'epochCapacity']);\n",
    "array = np.array(file);\n",
    "print(array)"
   ]
  },
  {
   "cell_type": "code",
   "execution_count": 12,
   "id": "2361ad23",
   "metadata": {},
   "outputs": [
    {
     "name": "stdout",
     "output_type": "stream",
     "text": [
      "swsLengthM [0.40978, -0.58934, 0.13056, -0.24984, -0.8969, 0.97606, -1.00196, -0.79597, -1.00196, 0.07276, 0.9549, -1.00196, -0.68222, 2.18398, -0.07403, -1.00196, -1.00196, -1.00196, -0.43608, -0.33679, -1.00196, -1.00196, -1.00196, -0.79333, -0.87155, -1.00196, -1.00196, 1.38484, 1.57157, 0.75755, 0.56687, -1.00196, 0.99413, 0.90962, 1.01471, 0.45976, -0.01975, 2.18003, -0.1699, 1.5713, 1.26175, 0.17509, 1.43425, 0.17632, -1.00196, -1.00196, -0.16729, -1.00196, 2.19051, 0.82797, 0.05505, -0.73603, 1.46884, 1.46137, -1.00196, 1.61816, 0.18222, 0.90665, 0.34556, -0.00578, 1.6523, -1.00196, 0.7838, -1.00196, 0.00313, 0.75629, 0.99893, -0.38955, -0.12243, -0.73889, 0.98728, -0.85987, -1.00196, 1.02812, -0.78597, -0.72515, -0.72123, -0.15559, -0.81926, -0.3926, 0.41557, 0.46325, -0.38429, -0.00752, -0.04568, -0.1791, -0.18216, -0.21055, 0.21577, 0.25767, -0.6077, -0.3452, -1.00196, 0.24239, -0.57471, 0.05411, -1.00196, -1.00196, -1.00196, -0.52998, 1.76431, -0.37568, 1.36399, 2.27424, 1.56891, 1.63481, -1.00196, -1.00196, 0.33133, -1.00196, -0.76879, -0.58362, 1.01797, 0.84476, -1.00196, -0.476, -0.3461, 0.78014, 0.35299, -0.19076, -1.00196, -1.00196, 0.6361, -1.00196, 1.91098, 2.26805, 2.03935, -1.00196, -0.39821, -0.12851, -0.59509, 1.61888, 0.18472, 0.01976, 0.74805, 2.14894, 0.88898, -1.00196, -0.00095, -1.00196, -0.59611, 0.34173, 0.93198, -0.61349, 1.23754, -1.00196, -1.00196, -0.52961, 0.66688, 0.89896, 0.44299, -1.00196, 0.35561, -0.58782, 0.63722, 1.70177, -0.72179, 2.17897, 0.02922, 0.02922, -1.00196, -1.00196, -1.00196, -1.00196, -1.00196, -1.00196, -1.00196, -1.00196, -1.00196, -1.00196, -1.00196, -1.00196, -1.00196, -1.00196, 0.50499, -0.78482, -0.79457, -0.71744, 1.24837, -0.57328, -0.57328, 2.18694, -1.00196, 1.36578, -0.71373, -1.00196, -0.71373, -1.00196, 0.94497, -0.85384, 1.20148, -0.26546, 0.61791, -1.00196, 0.1706, -0.02478, -1.00196, -1.00196, 2.84312, 0.0291, 2.5174, 1.20461, -0.89761, 1.63594, 0.41583, -1.00196, 2.45022, -0.38055, 0.44732, -1.00196, -0.2737, 0.73997, -0.82907, -1.00196, 1.04573, 0.5097, -1.00196, -1.00196]\n",
      "epochCapacity [-0.21559, -0.45059, -0.59832, -0.43695, -0.42434, -0.37377, 0.29463, 0.22299, 0.96814, 0.46796, -0.70391, -0.0898, 0.56139, -0.90644, -0.8534, -0.93767, -0.87768, -0.77319, -0.91163, -0.73303, -0.86751, -0.94544, -0.7918, -0.83626, -0.90268, -0.99084, -0.98104, 2.88225, 2.29887, 3.21025, 3.20659, 1.43229, 1.69424, -0.651, 0.4717, -0.8815, 0.44969, 1.46438, 0.17517, -0.33819, 0.39077, 1.79624, -0.57185, 1.65143, 0.6303, -0.81235, -0.38492, 0.78562, 0.2073, 0.32379, -0.86452, -0.72161, -0.54847, -0.60255, -0.7263, -0.86042, -0.85977, -1.0533, -0.37892, -0.78625, -0.55946, -0.94274, -1.07669, 0.29264, 1.81148, 1.27851, -0.13185, -0.34971, 1.71514, 0.55039, 0.35278, 0.93698, 0.0716, 0.32362, 0.79532, -0.38881, 0.29112, -0.18135, -0.06654, 1.42236, -0.16764, 0.66965, 0.47907, -0.11222, 0.9789, 1.3886, -0.47056, -0.7843, 0.55248, -0.35764, -0.84119, -0.65677, 0.52634, -0.73634, -0.30458, -0.00897, 0.40971, -0.60485, 0.21035, -0.46029, -0.58175, -0.88011, -0.92993, -0.9374, -1.05963, -0.94609, -0.61803, -0.74147, -1.02714, -0.78627, -0.72013, -0.59139, -0.74408, -0.34009, -0.2904, -0.72005, -0.513, -0.82433, -0.69928, 0.24479, 0.54212, 0.54212, 0.60981, -0.51529, 0.13535, 0.24952, 0.02533, 0.26731, -0.21912, -0.21238, -0.06353, 0.1383, 0.46834, -0.82308, 1.37328, -0.40402, 0.10862, -0.2322, 0.74528, 2.03109, 0.8224, -0.85391, 0.35274, 1.81994, 1.48487, 0.60837, 0.42225, -0.96331, -0.53516, -0.83078, -0.7902, 0.23927, 0.90403, -0.16644, -0.79132, -0.91357, -0.67971, -0.80519, -0.88457, -0.88457, 2.9631, 2.96042, 0.45995, 0.40697, 0.42541, 0.89338, 0.89338, 2.9631, 2.96042, 0.45995, 0.40697, 0.42541, 0.89338, 0.89338, 0.36543, -0.17013, -0.57556, -0.37534, -0.5061, -0.83398, -0.83398, -0.19698, -0.43521, -0.35616, -0.85502, -0.96307, -0.85502, -0.96307, 1.42963, 2.41176, 1.54286, 0.62888, 1.22341, -1.01517, -1.0649, -0.99608, -0.99414, -1.02149, -0.77952, -0.97424, -0.93489, -0.96569, -0.95768, -1.07636, -1.05365, -1.01919, 2.52346, 1.49546, 0.34318, 0.29027, 2.07446, -0.78681, -0.31598, -0.88368, 0.34007, -1.12005, -1.10396, -1.10396]\n"
     ]
    }
   ],
   "source": [
    " x = [x[0] for x in array]\n",
    "print(\"swsLengthM\",x)\n",
    "\n",
    "y = [x[1]  for x in array]\n",
    "print(\"epochCapacity\",y)"
   ]
  },
  {
   "cell_type": "code",
   "execution_count": 14,
   "id": "9ac8ac8e",
   "metadata": {},
   "outputs": [
    {
     "data": {
      "text/plain": [
       "<matplotlib.collections.PathCollection at 0x21d9fe708e0>"
      ]
     },
     "execution_count": 14,
     "metadata": {},
     "output_type": "execute_result"
    },
    {
     "data": {
      "image/png": "[encoded data removed]",
      "text/plain": [
       "<Figure size 432x288 with 1 Axes>"
      ]
     },
     "metadata": {
      "needs_background": "light"
     },
     "output_type": "display_data"
    }
   ],
   "source": [
    "plt.title('swsLengthM vs epochCapacity') # title of the figure\n",
    "plt.xlabel('Goals Scored') #x label\n",
    "plt.ylabel('Goals Conceded') #y label\n",
    "plt.scatter(x, y, c = \"blue\") "
   ]
  },
  {
   "cell_type": "code",
   "execution_count": 34,
   "id": "6adaf919",
   "metadata": {},
   "outputs": [
    {
     "name": "stdout",
     "output_type": "stream",
     "text": [
      "Enter K value3\n",
      "The value entered is k = 3\n"
     ]
    }
   ],
   "source": [
    "#ask user for number of clusters i.e K values, Also we need to limit k value from 2 to 10 by if condition\n",
    "\n",
    "userOption = int(input(\"Enter K value\"))\n",
    "print(\"The value entered is k =\",userOption)\n",
    "\n",
    "cPoint1 = np.random.choice(x,size=2)"
   ]
  },
  {
   "cell_type": "code",
   "execution_count": 58,
   "id": "dc99b459",
   "metadata": {},
   "outputs": [
    {
     "name": "stdout",
     "output_type": "stream",
     "text": [
      "[117 206  88]\n"
     ]
    }
   ],
   "source": [
    "#we need to generate centers based on entered k value, down here we are generating indices of array which will be given \n",
    "randomIndex =  np.random.randint(218,size =  userOption)\n",
    "print(randomIndex)\n"
   ]
  },
  {
   "cell_type": "code",
   "execution_count": 61,
   "id": "6d46c51a",
   "metadata": {},
   "outputs": [
    {
     "name": "stdout",
     "output_type": "stream",
     "text": [
      "array centers [[ 0.78014 -0.82433]\n",
      " [ 2.45022  2.52346]\n",
      " [ 0.21577  0.55248]]\n"
     ]
    }
   ],
   "source": [
    "print(\"array centers\",array[randomIndex])"
   ]
  },
  {
   "cell_type": "code",
   "execution_count": null,
   "id": "9eebf4f0",
   "metadata": {},
   "outputs": [],
   "source": []
  }
 ],
 "metadata": {
  "kernelspec": {
   "display_name": "Python 3",
   "language": "python",
   "name": "python3"
  },
  "language_info": {
   "codemirror_mode": {
    "name": "ipython",
    "version": 3
   },
   "file_extension": ".py",
   "mimetype": "text/x-python",
   "name": "python",
   "nbconvert_exporter": "python",
   "pygments_lexer": "ipython3",
   "version": "3.8.8"
  }
 },
 "nbformat": 4,
 "nbformat_minor": 5
}
